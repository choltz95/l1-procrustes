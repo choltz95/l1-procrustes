{
  "nbformat": 4,
  "nbformat_minor": 0,
  "metadata": {
    "colab": {
      "name": "l1_procrustes.ipynb",
      "provenance": [],
      "collapsed_sections": []
    },
    "kernelspec": {
      "name": "python3",
      "display_name": "Python 3"
    },
    "language_info": {
      "name": "python"
    },
    "widgets": {
      "application/vnd.jupyter.widget-state+json": {
        "97c6352241b546c486305b5e755b817c": {
          "model_module": "@jupyter-widgets/controls",
          "model_name": "HBoxModel",
          "model_module_version": "1.5.0",
          "state": {
            "_dom_classes": [],
            "_model_module": "@jupyter-widgets/controls",
            "_model_module_version": "1.5.0",
            "_model_name": "HBoxModel",
            "_view_count": null,
            "_view_module": "@jupyter-widgets/controls",
            "_view_module_version": "1.5.0",
            "_view_name": "HBoxView",
            "box_style": "",
            "children": [
              "IPY_MODEL_5e60a271b83343029577dbe0e3c84b1a",
              "IPY_MODEL_7e1bd215c88240ef8a67a41e8ead4482",
              "IPY_MODEL_2c0cca42e6ca44b5b55bf69a114412d6"
            ],
            "layout": "IPY_MODEL_d9696ab947e04bfb9624edf6a44caf33"
          }
        },
        "5e60a271b83343029577dbe0e3c84b1a": {
          "model_module": "@jupyter-widgets/controls",
          "model_name": "HTMLModel",
          "model_module_version": "1.5.0",
          "state": {
            "_dom_classes": [],
            "_model_module": "@jupyter-widgets/controls",
            "_model_module_version": "1.5.0",
            "_model_name": "HTMLModel",
            "_view_count": null,
            "_view_module": "@jupyter-widgets/controls",
            "_view_module_version": "1.5.0",
            "_view_name": "HTMLView",
            "description": "",
            "description_tooltip": null,
            "layout": "IPY_MODEL_bd4ebf5087564c0b84a930b301a7760c",
            "placeholder": "​",
            "style": "IPY_MODEL_f52e07bfe78b43408354a40230aea878",
            "value": "100%"
          }
        },
        "7e1bd215c88240ef8a67a41e8ead4482": {
          "model_module": "@jupyter-widgets/controls",
          "model_name": "FloatProgressModel",
          "model_module_version": "1.5.0",
          "state": {
            "_dom_classes": [],
            "_model_module": "@jupyter-widgets/controls",
            "_model_module_version": "1.5.0",
            "_model_name": "FloatProgressModel",
            "_view_count": null,
            "_view_module": "@jupyter-widgets/controls",
            "_view_module_version": "1.5.0",
            "_view_name": "ProgressView",
            "bar_style": "success",
            "description": "",
            "description_tooltip": null,
            "layout": "IPY_MODEL_32454a112f6a4c7a865cb67e26f458a2",
            "max": 200,
            "min": 0,
            "orientation": "horizontal",
            "style": "IPY_MODEL_05fc95c91a614f3a9f31e267a26a52de",
            "value": 200
          }
        },
        "2c0cca42e6ca44b5b55bf69a114412d6": {
          "model_module": "@jupyter-widgets/controls",
          "model_name": "HTMLModel",
          "model_module_version": "1.5.0",
          "state": {
            "_dom_classes": [],
            "_model_module": "@jupyter-widgets/controls",
            "_model_module_version": "1.5.0",
            "_model_name": "HTMLModel",
            "_view_count": null,
            "_view_module": "@jupyter-widgets/controls",
            "_view_module_version": "1.5.0",
            "_view_name": "HTMLView",
            "description": "",
            "description_tooltip": null,
            "layout": "IPY_MODEL_441fa73650e24780bb3376dad9c69329",
            "placeholder": "​",
            "style": "IPY_MODEL_213db4b8085c48d7bef12b099fee9333",
            "value": " 200/200 [00:11&lt;00:00, 12.93it/s]"
          }
        },
        "d9696ab947e04bfb9624edf6a44caf33": {
          "model_module": "@jupyter-widgets/base",
          "model_name": "LayoutModel",
          "model_module_version": "1.2.0",
          "state": {
            "_model_module": "@jupyter-widgets/base",
            "_model_module_version": "1.2.0",
            "_model_name": "LayoutModel",
            "_view_count": null,
            "_view_module": "@jupyter-widgets/base",
            "_view_module_version": "1.2.0",
            "_view_name": "LayoutView",
            "align_content": null,
            "align_items": null,
            "align_self": null,
            "border": null,
            "bottom": null,
            "display": null,
            "flex": null,
            "flex_flow": null,
            "grid_area": null,
            "grid_auto_columns": null,
            "grid_auto_flow": null,
            "grid_auto_rows": null,
            "grid_column": null,
            "grid_gap": null,
            "grid_row": null,
            "grid_template_areas": null,
            "grid_template_columns": null,
            "grid_template_rows": null,
            "height": null,
            "justify_content": null,
            "justify_items": null,
            "left": null,
            "margin": null,
            "max_height": null,
            "max_width": null,
            "min_height": null,
            "min_width": null,
            "object_fit": null,
            "object_position": null,
            "order": null,
            "overflow": null,
            "overflow_x": null,
            "overflow_y": null,
            "padding": null,
            "right": null,
            "top": null,
            "visibility": null,
            "width": null
          }
        },
        "bd4ebf5087564c0b84a930b301a7760c": {
          "model_module": "@jupyter-widgets/base",
          "model_name": "LayoutModel",
          "model_module_version": "1.2.0",
          "state": {
            "_model_module": "@jupyter-widgets/base",
            "_model_module_version": "1.2.0",
            "_model_name": "LayoutModel",
            "_view_count": null,
            "_view_module": "@jupyter-widgets/base",
            "_view_module_version": "1.2.0",
            "_view_name": "LayoutView",
            "align_content": null,
            "align_items": null,
            "align_self": null,
            "border": null,
            "bottom": null,
            "display": null,
            "flex": null,
            "flex_flow": null,
            "grid_area": null,
            "grid_auto_columns": null,
            "grid_auto_flow": null,
            "grid_auto_rows": null,
            "grid_column": null,
            "grid_gap": null,
            "grid_row": null,
            "grid_template_areas": null,
            "grid_template_columns": null,
            "grid_template_rows": null,
            "height": null,
            "justify_content": null,
            "justify_items": null,
            "left": null,
            "margin": null,
            "max_height": null,
            "max_width": null,
            "min_height": null,
            "min_width": null,
            "object_fit": null,
            "object_position": null,
            "order": null,
            "overflow": null,
            "overflow_x": null,
            "overflow_y": null,
            "padding": null,
            "right": null,
            "top": null,
            "visibility": null,
            "width": null
          }
        },
        "f52e07bfe78b43408354a40230aea878": {
          "model_module": "@jupyter-widgets/controls",
          "model_name": "DescriptionStyleModel",
          "model_module_version": "1.5.0",
          "state": {
            "_model_module": "@jupyter-widgets/controls",
            "_model_module_version": "1.5.0",
            "_model_name": "DescriptionStyleModel",
            "_view_count": null,
            "_view_module": "@jupyter-widgets/base",
            "_view_module_version": "1.2.0",
            "_view_name": "StyleView",
            "description_width": ""
          }
        },
        "32454a112f6a4c7a865cb67e26f458a2": {
          "model_module": "@jupyter-widgets/base",
          "model_name": "LayoutModel",
          "model_module_version": "1.2.0",
          "state": {
            "_model_module": "@jupyter-widgets/base",
            "_model_module_version": "1.2.0",
            "_model_name": "LayoutModel",
            "_view_count": null,
            "_view_module": "@jupyter-widgets/base",
            "_view_module_version": "1.2.0",
            "_view_name": "LayoutView",
            "align_content": null,
            "align_items": null,
            "align_self": null,
            "border": null,
            "bottom": null,
            "display": null,
            "flex": null,
            "flex_flow": null,
            "grid_area": null,
            "grid_auto_columns": null,
            "grid_auto_flow": null,
            "grid_auto_rows": null,
            "grid_column": null,
            "grid_gap": null,
            "grid_row": null,
            "grid_template_areas": null,
            "grid_template_columns": null,
            "grid_template_rows": null,
            "height": null,
            "justify_content": null,
            "justify_items": null,
            "left": null,
            "margin": null,
            "max_height": null,
            "max_width": null,
            "min_height": null,
            "min_width": null,
            "object_fit": null,
            "object_position": null,
            "order": null,
            "overflow": null,
            "overflow_x": null,
            "overflow_y": null,
            "padding": null,
            "right": null,
            "top": null,
            "visibility": null,
            "width": null
          }
        },
        "05fc95c91a614f3a9f31e267a26a52de": {
          "model_module": "@jupyter-widgets/controls",
          "model_name": "ProgressStyleModel",
          "model_module_version": "1.5.0",
          "state": {
            "_model_module": "@jupyter-widgets/controls",
            "_model_module_version": "1.5.0",
            "_model_name": "ProgressStyleModel",
            "_view_count": null,
            "_view_module": "@jupyter-widgets/base",
            "_view_module_version": "1.2.0",
            "_view_name": "StyleView",
            "bar_color": null,
            "description_width": ""
          }
        },
        "441fa73650e24780bb3376dad9c69329": {
          "model_module": "@jupyter-widgets/base",
          "model_name": "LayoutModel",
          "model_module_version": "1.2.0",
          "state": {
            "_model_module": "@jupyter-widgets/base",
            "_model_module_version": "1.2.0",
            "_model_name": "LayoutModel",
            "_view_count": null,
            "_view_module": "@jupyter-widgets/base",
            "_view_module_version": "1.2.0",
            "_view_name": "LayoutView",
            "align_content": null,
            "align_items": null,
            "align_self": null,
            "border": null,
            "bottom": null,
            "display": null,
            "flex": null,
            "flex_flow": null,
            "grid_area": null,
            "grid_auto_columns": null,
            "grid_auto_flow": null,
            "grid_auto_rows": null,
            "grid_column": null,
            "grid_gap": null,
            "grid_row": null,
            "grid_template_areas": null,
            "grid_template_columns": null,
            "grid_template_rows": null,
            "height": null,
            "justify_content": null,
            "justify_items": null,
            "left": null,
            "margin": null,
            "max_height": null,
            "max_width": null,
            "min_height": null,
            "min_width": null,
            "object_fit": null,
            "object_position": null,
            "order": null,
            "overflow": null,
            "overflow_x": null,
            "overflow_y": null,
            "padding": null,
            "right": null,
            "top": null,
            "visibility": null,
            "width": null
          }
        },
        "213db4b8085c48d7bef12b099fee9333": {
          "model_module": "@jupyter-widgets/controls",
          "model_name": "DescriptionStyleModel",
          "model_module_version": "1.5.0",
          "state": {
            "_model_module": "@jupyter-widgets/controls",
            "_model_module_version": "1.5.0",
            "_model_name": "DescriptionStyleModel",
            "_view_count": null,
            "_view_module": "@jupyter-widgets/base",
            "_view_module_version": "1.2.0",
            "_view_name": "StyleView",
            "description_width": ""
          }
        }
      }
    }
  },
  "cells": [
    {
      "cell_type": "code",
      "source": [
        "!pip install qc-procrustes"
      ],
      "metadata": {
        "colab": {
          "base_uri": "https://localhost:8080/",
          "height": 1000
        },
        "id": "eCzBUIprVz-B",
        "outputId": "f48d67f6-9408-4d2e-bb5f-c7eac18e93ac"
      },
      "execution_count": null,
      "outputs": [
        {
          "output_type": "stream",
          "name": "stdout",
          "text": [
            "Looking in indexes: https://pypi.org/simple, https://us-python.pkg.dev/colab-wheels/public/simple/\n",
            "Collecting qc-procrustes\n",
            "  Downloading qc-procrustes-1.0.0.tar.gz (55 kB)\n",
            "\u001b[K     |████████████████████████████████| 55 kB 2.9 MB/s \n",
            "\u001b[?25hRequirement already satisfied: numpy>=1.18.5 in /usr/local/lib/python3.7/dist-packages (from qc-procrustes) (1.21.6)\n",
            "Requirement already satisfied: scipy>=1.5.0 in /usr/local/lib/python3.7/dist-packages (from qc-procrustes) (1.7.3)\n",
            "Collecting pytest>=5.4.3\n",
            "  Downloading pytest-7.1.2-py3-none-any.whl (297 kB)\n",
            "\u001b[K     |████████████████████████████████| 297 kB 15.1 MB/s \n",
            "\u001b[?25hCollecting sphinx>=2.3.0\n",
            "  Downloading Sphinx-5.1.1-py3-none-any.whl (3.2 MB)\n",
            "\u001b[K     |████████████████████████████████| 3.2 MB 50.8 MB/s \n",
            "\u001b[?25hCollecting pluggy<2.0,>=0.12\n",
            "  Downloading pluggy-1.0.0-py2.py3-none-any.whl (13 kB)\n",
            "Requirement already satisfied: packaging in /usr/local/lib/python3.7/dist-packages (from pytest>=5.4.3->qc-procrustes) (21.3)\n",
            "Requirement already satisfied: attrs>=19.2.0 in /usr/local/lib/python3.7/dist-packages (from pytest>=5.4.3->qc-procrustes) (22.1.0)\n",
            "Collecting iniconfig\n",
            "  Downloading iniconfig-1.1.1-py2.py3-none-any.whl (5.0 kB)\n",
            "Requirement already satisfied: importlib-metadata>=0.12 in /usr/local/lib/python3.7/dist-packages (from pytest>=5.4.3->qc-procrustes) (4.12.0)\n",
            "Requirement already satisfied: tomli>=1.0.0 in /usr/local/lib/python3.7/dist-packages (from pytest>=5.4.3->qc-procrustes) (2.0.1)\n",
            "Requirement already satisfied: py>=1.8.2 in /usr/local/lib/python3.7/dist-packages (from pytest>=5.4.3->qc-procrustes) (1.11.0)\n",
            "Requirement already satisfied: zipp>=0.5 in /usr/local/lib/python3.7/dist-packages (from importlib-metadata>=0.12->pytest>=5.4.3->qc-procrustes) (3.8.1)\n",
            "Requirement already satisfied: typing-extensions>=3.6.4 in /usr/local/lib/python3.7/dist-packages (from importlib-metadata>=0.12->pytest>=5.4.3->qc-procrustes) (4.1.1)\n",
            "Collecting sphinxcontrib-applehelp\n",
            "  Downloading sphinxcontrib_applehelp-1.0.2-py2.py3-none-any.whl (121 kB)\n",
            "\u001b[K     |████████████████████████████████| 121 kB 72.2 MB/s \n",
            "\u001b[?25hRequirement already satisfied: docutils<0.20,>=0.14 in /usr/local/lib/python3.7/dist-packages (from sphinx>=2.3.0->qc-procrustes) (0.17.1)\n",
            "Collecting sphinxcontrib-qthelp\n",
            "  Downloading sphinxcontrib_qthelp-1.0.3-py2.py3-none-any.whl (90 kB)\n",
            "\u001b[K     |████████████████████████████████| 90 kB 8.8 MB/s \n",
            "\u001b[?25hRequirement already satisfied: alabaster<0.8,>=0.7 in /usr/local/lib/python3.7/dist-packages (from sphinx>=2.3.0->qc-procrustes) (0.7.12)\n",
            "Requirement already satisfied: imagesize in /usr/local/lib/python3.7/dist-packages (from sphinx>=2.3.0->qc-procrustes) (1.4.1)\n",
            "Collecting sphinxcontrib-devhelp\n",
            "  Downloading sphinxcontrib_devhelp-1.0.2-py2.py3-none-any.whl (84 kB)\n",
            "\u001b[K     |████████████████████████████████| 84 kB 3.4 MB/s \n",
            "\u001b[?25hRequirement already satisfied: snowballstemmer>=1.1 in /usr/local/lib/python3.7/dist-packages (from sphinx>=2.3.0->qc-procrustes) (2.2.0)\n",
            "Requirement already satisfied: Pygments>=2.0 in /usr/local/lib/python3.7/dist-packages (from sphinx>=2.3.0->qc-procrustes) (2.6.1)\n",
            "Requirement already satisfied: requests>=2.5.0 in /usr/local/lib/python3.7/dist-packages (from sphinx>=2.3.0->qc-procrustes) (2.23.0)\n",
            "Collecting sphinxcontrib-jsmath\n",
            "  Downloading sphinxcontrib_jsmath-1.0.1-py2.py3-none-any.whl (5.1 kB)\n",
            "Requirement already satisfied: sphinxcontrib-serializinghtml>=1.1.5 in /usr/local/lib/python3.7/dist-packages (from sphinx>=2.3.0->qc-procrustes) (1.1.5)\n",
            "Collecting sphinxcontrib-htmlhelp>=2.0.0\n",
            "  Downloading sphinxcontrib_htmlhelp-2.0.0-py2.py3-none-any.whl (100 kB)\n",
            "\u001b[K     |████████████████████████████████| 100 kB 9.0 MB/s \n",
            "\u001b[?25hRequirement already satisfied: babel>=1.3 in /usr/local/lib/python3.7/dist-packages (from sphinx>=2.3.0->qc-procrustes) (2.10.3)\n",
            "Requirement already satisfied: Jinja2>=2.3 in /usr/local/lib/python3.7/dist-packages (from sphinx>=2.3.0->qc-procrustes) (2.11.3)\n",
            "Requirement already satisfied: pytz>=2015.7 in /usr/local/lib/python3.7/dist-packages (from babel>=1.3->sphinx>=2.3.0->qc-procrustes) (2022.2.1)\n",
            "Requirement already satisfied: MarkupSafe>=0.23 in /usr/local/lib/python3.7/dist-packages (from Jinja2>=2.3->sphinx>=2.3.0->qc-procrustes) (2.0.1)\n",
            "Requirement already satisfied: certifi>=2017.4.17 in /usr/local/lib/python3.7/dist-packages (from requests>=2.5.0->sphinx>=2.3.0->qc-procrustes) (2022.6.15)\n",
            "Requirement already satisfied: urllib3!=1.25.0,!=1.25.1,<1.26,>=1.21.1 in /usr/local/lib/python3.7/dist-packages (from requests>=2.5.0->sphinx>=2.3.0->qc-procrustes) (1.24.3)\n",
            "Requirement already satisfied: idna<3,>=2.5 in /usr/local/lib/python3.7/dist-packages (from requests>=2.5.0->sphinx>=2.3.0->qc-procrustes) (2.10)\n",
            "Requirement already satisfied: chardet<4,>=3.0.2 in /usr/local/lib/python3.7/dist-packages (from requests>=2.5.0->sphinx>=2.3.0->qc-procrustes) (3.0.4)\n",
            "Requirement already satisfied: pyparsing!=3.0.5,>=2.0.2 in /usr/local/lib/python3.7/dist-packages (from packaging->pytest>=5.4.3->qc-procrustes) (3.0.9)\n",
            "Building wheels for collected packages: qc-procrustes\n",
            "  Building wheel for qc-procrustes (setup.py) ... \u001b[?25l\u001b[?25hdone\n",
            "  Created wheel for qc-procrustes: filename=qc_procrustes-1.0.0-py3-none-any.whl size=76078 sha256=6271cd8c4f3633df61a093f706b7f1e7c310f47b3e5368350a00993f51ee7f25\n",
            "  Stored in directory: /root/.cache/pip/wheels/5c/5e/e7/e106da624dd09a030f6fcb95354936f6ba9b8a127d63e28599\n",
            "Successfully built qc-procrustes\n",
            "Installing collected packages: sphinxcontrib-qthelp, sphinxcontrib-jsmath, sphinxcontrib-htmlhelp, sphinxcontrib-devhelp, sphinxcontrib-applehelp, pluggy, iniconfig, sphinx, pytest, qc-procrustes\n",
            "  Attempting uninstall: pluggy\n",
            "    Found existing installation: pluggy 0.7.1\n",
            "    Uninstalling pluggy-0.7.1:\n",
            "      Successfully uninstalled pluggy-0.7.1\n",
            "  Attempting uninstall: sphinx\n",
            "    Found existing installation: Sphinx 1.8.6\n",
            "    Uninstalling Sphinx-1.8.6:\n",
            "      Successfully uninstalled Sphinx-1.8.6\n",
            "  Attempting uninstall: pytest\n",
            "    Found existing installation: pytest 3.6.4\n",
            "    Uninstalling pytest-3.6.4:\n",
            "      Successfully uninstalled pytest-3.6.4\n",
            "Successfully installed iniconfig-1.1.1 pluggy-1.0.0 pytest-7.1.2 qc-procrustes-1.0.0 sphinx-5.1.1 sphinxcontrib-applehelp-1.0.2 sphinxcontrib-devhelp-1.0.2 sphinxcontrib-htmlhelp-2.0.0 sphinxcontrib-jsmath-1.0.1 sphinxcontrib-qthelp-1.0.3\n"
          ]
        },
        {
          "output_type": "display_data",
          "data": {
            "application/vnd.colab-display-data+json": {
              "pip_warning": {
                "packages": [
                  "sphinxcontrib"
                ]
              }
            }
          },
          "metadata": {}
        }
      ]
    },
    {
      "cell_type": "code",
      "execution_count": null,
      "metadata": {
        "id": "YPxae5zdVqu4"
      },
      "outputs": [],
      "source": [
        "import jax\n",
        "import jax.numpy as jnp\n",
        "from jax import vmap\n",
        "\n",
        "import numpy as np\n",
        "\n",
        "from tqdm.notebook import tqdm\n",
        "\n",
        "from scipy.stats import ortho_group\n",
        "from procrustes import orthogonal\n",
        "from procrustes.utils import compute_error, ProcrustesResult, setup_input_arrays"
      ]
    },
    {
      "cell_type": "code",
      "source": [
        "\"\"\"from tutorial to get idea for error \"\"\"\n",
        "\n",
        "# random input 10x7 matrix A\n",
        "a = np.random.rand(10, 7)\n",
        "\n",
        "# random orthogonal 7x7 matrix T (acting as Q)\n",
        "t = ortho_group.rvs(7)\n",
        "\n",
        "# target matrix B (which is a shifted AT)\n",
        "b = np.dot(a, t) + np.random.rand(1, 7)\n",
        "\n",
        "# orthogonal Procrustes analysis with translation\n",
        "result = orthogonal(a, b, scale=True, translate=True)\n",
        "\n",
        "# compute transformed matrix A (i.e., A x Q)\n",
        "aq = np.dot(result.new_a, result.t)\n",
        "\n",
        "# display Procrustes results\n",
        "print(\"Procrustes Error = \", result.error)\n",
        "print(\"Procrustes l2 Error = \", np.linalg.norm(result.new_a@result.t - result.new_b, ord=2))\n",
        "print(\"Procrustes l1 Error = \", np.linalg.norm(result.new_a@result.t - result.new_b, ord=1))"
      ],
      "metadata": {
        "colab": {
          "base_uri": "https://localhost:8080/"
        },
        "id": "HPX78HBAV-or",
        "outputId": "d82ed467-3ef5-4e0e-aa61-f3ac8b9ed20e"
      },
      "execution_count": null,
      "outputs": [
        {
          "output_type": "stream",
          "name": "stdout",
          "text": [
            "Procrustes Error =  5.229104805226128e-31\n",
            "Procrustes l2 Error =  4.614963639070915e-16\n",
            "Procrustes l1 Error =  1.2021633688519273e-15\n"
          ]
        }
      ]
    },
    {
      "cell_type": "code",
      "source": [
        "\"\"\"TRENDAFILOV & WATSON, The \u0001\\ell-1 oblique procrustes problem \"\"\"\n",
        "\n",
        "gamma = 0.1\n",
        "\n",
        "def phi(t):\n",
        "  \"\"\"huber, eq 4 \"\"\"\n",
        "  return jax.lax.cond(\n",
        "      jnp.abs(t)  <= gamma,\n",
        "      lambda x : x**2 / 2,\n",
        "      lambda x : gamma * (jnp.abs(x) - gamma / 2),\n",
        "      t\n",
        "  )\n",
        "\n",
        "def d_phi(t):\n",
        "  \"\"\"huber deriv, eq 18 \"\"\"\n",
        "  return jax.lax.cond(\n",
        "      jnp.abs(t)  <= gamma,\n",
        "      lambda x : x,\n",
        "      lambda x : gamma * jnp.sign(x),\n",
        "      t\n",
        "  )\n",
        "\n",
        "def stationary_point(A, x, b_i):\n",
        "  \"\"\"stationary point, eq 15 \"\"\"\n",
        "  return (x.T@A.T@jnp.sign(A@x - b_i))*x - A.T@jnp.sign(A@x - b_i)\n",
        "\n",
        "def project(x, g):\n",
        "  \"\"\"neg gradient projection, eq 13 & 14 \"\"\"\n",
        "  return (x.T@g)*x - g\n",
        "\n",
        "def descent(A, x, b_i):\n",
        "  \"\"\"neg gradient step, eq 17 \"\"\"\n",
        "  return A.T@vmap(lambda a_i, b_ij : d_phi(a_i@x - b_ij), in_axes=(0,0))(A, b_i)\n",
        "\n",
        "beta = 0.9\n",
        "step_sizes = 1.0*jnp.power(beta,jnp.linspace(0,100,100)) # geometric progression of step sizes\n",
        "def col_update(A, b, x, g):\n",
        "  \"\"\"update individual column of x \"\"\"\n",
        "\n",
        "  def line_search(step, x, g):\n",
        "    \"\"\"helper vmap over step sizes \"\"\"\n",
        "    return x + step * g\n",
        "\n",
        "  # project descent direction\n",
        "  g = project(x,g)\n",
        "  # evaluate updates for different step sizes\n",
        "  _xs = vmap(line_search, in_axes = (0, None, None))(step_sizes, x, g)\n",
        "  _foc = jnp.linalg.norm(vmap(stationary_point, in_axes=(None, 0, None))(A, _xs, b), axis = 0)\n",
        "  return _xs[_foc.argmin()] # choose best x wrt foc\n",
        "\n",
        "def l1_procrustes(A, b):\n",
        "  \"\"\"PGD \"\"\"\n",
        "  A, b = setup_input_arrays(\n",
        "      A,\n",
        "      b,\n",
        "      remove_zero_col=True,\n",
        "      remove_zero_row=False,\n",
        "      pad=False,\n",
        "      translate=True,\n",
        "      scale=True,\n",
        "      check_finite=True,\n",
        "      weight=None,\n",
        "  )\n",
        "\n",
        "  m, n = A.shape # m samples, dimension n\n",
        "  x_0 = jnp.ones((n, n))  / jnp.sqrt(n) # intial columns of x on the unit n-sphere\n",
        "  #x_0 = orthogonal(A, b).t # intial columns of x to solution to l2-proc problem\n",
        "  x_i = x_0\n",
        "  foc = []\n",
        "  errors = []\n",
        "  for _ in tqdm(range(200)):\n",
        "    # solve n (dimension) independent sphere-constrained l1 problems in R-n with pgd\n",
        "    # need to transpose since vmap out-axis is 0-axis (rows) by default\n",
        "    g = vmap(descent, in_axes = (None, 1, 1))(A, x_i, b).T\n",
        "    x_i = vmap(col_update, in_axes=(None, 1, 1, 1))(A, b, x_i, g).T\n",
        "    # check foc and store errors\n",
        "    f = jnp.linalg.norm(vmap(stationary_point,in_axes=(None, 1, 1))(A, x_i, b)).item()\n",
        "    foc.append(f)\n",
        "    error = compute_error(A, b, x_i)\n",
        "    errors.append(error)\n",
        "\n",
        "  return foc, errors, x_i"
      ],
      "metadata": {
        "id": "_I6D6g_rWFoy"
      },
      "execution_count": 508,
      "outputs": []
    },
    {
      "cell_type": "code",
      "source": [
        "foc, errors, x_i = l1_procrustes(a, b)"
      ],
      "metadata": {
        "colab": {
          "base_uri": "https://localhost:8080/",
          "height": 49,
          "referenced_widgets": [
            "97c6352241b546c486305b5e755b817c",
            "5e60a271b83343029577dbe0e3c84b1a",
            "7e1bd215c88240ef8a67a41e8ead4482",
            "2c0cca42e6ca44b5b55bf69a114412d6",
            "d9696ab947e04bfb9624edf6a44caf33",
            "bd4ebf5087564c0b84a930b301a7760c",
            "f52e07bfe78b43408354a40230aea878",
            "32454a112f6a4c7a865cb67e26f458a2",
            "05fc95c91a614f3a9f31e267a26a52de",
            "441fa73650e24780bb3376dad9c69329",
            "213db4b8085c48d7bef12b099fee9333"
          ]
        },
        "id": "wNwZpqnfZwa2",
        "outputId": "aa116999-c6fc-4139-9bca-9e82a0d146f1"
      },
      "execution_count": 509,
      "outputs": [
        {
          "output_type": "display_data",
          "data": {
            "text/plain": [
              "  0%|          | 0/200 [00:00<?, ?it/s]"
            ],
            "application/vnd.jupyter.widget-view+json": {
              "version_major": 2,
              "version_minor": 0,
              "model_id": "97c6352241b546c486305b5e755b817c"
            }
          },
          "metadata": {}
        }
      ]
    },
    {
      "cell_type": "code",
      "source": [
        "# want error ~1.2958384365546749e-15 to match l2 orthogonal proc.\n",
        "# get error ~0.001 for gamma = 0.1-1.0 and unit init :( and foc not = 0 ??\n",
        "import matplotlib.pyplot as plt\n",
        "fig, axes = plt.subplots(1,2, figsize=(15,5), sharex=True)\n",
        "axes[0].plot(foc)\n",
        "axes[1].plot(errors)\n",
        "axes[0].set_ylabel('FOC')\n",
        "axes[1].set_ylabel('Proc. error')\n",
        "\n",
        "axes[0].set_title(f'FOC: {foc[-1]:.4f}')\n",
        "axes[1].set_title(f'Proc. error: {errors[-1]:.4f}')\n",
        "for ax in axes:\n",
        "  ax.set_xlabel('# iterations')"
      ],
      "metadata": {
        "colab": {
          "base_uri": "https://localhost:8080/",
          "height": 350
        },
        "id": "PF4CZVgt5oI1",
        "outputId": "abf6d6fa-fd3f-4ddf-838a-af68a2b50435"
      },
      "execution_count": 511,
      "outputs": [
        {
          "output_type": "display_data",
          "data": {
            "text/plain": [
              "<Figure size 1080x360 with 2 Axes>"
            ],
            "image/png": "[encoded data removed]"
          },
          "metadata": {
            "needs_background": "light"
          }
        }
      ]
    },
    {
      "cell_type": "code",
      "source": [],
      "metadata": {
        "id": "_rQUP-4dD8GI"
      },
      "execution_count": null,
      "outputs": []
    }
  ]
}